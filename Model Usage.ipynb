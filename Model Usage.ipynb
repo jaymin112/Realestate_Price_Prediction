{
 "cells": [
  {
   "cell_type": "code",
   "execution_count": 2,
   "id": "77e26b48",
   "metadata": {},
   "outputs": [],
   "source": [
    "from joblib import dump, load\n",
    "import numpy as np\n",
    "model = load ('Realstate.joblib')"
   ]
  },
  {
   "cell_type": "code",
   "execution_count": 6,
   "id": "82b82c0d",
   "metadata": {},
   "outputs": [
    {
     "data": {
      "text/plain": [
       "array([19.986])"
      ]
     },
     "execution_count": 6,
     "metadata": {},
     "output_type": "execute_result"
    }
   ],
   "source": [
    "features= np.array([[-0.3283834 , -0.48074454, -0.46974328, -0.27361709, -0.16439335,\n",
    "       -1.16044209, -1.14593679,  0.01453841, -0.64922514, -0.62529642,\n",
    "        1.17963243, -0.70762584, -0.16487235]])\n",
    "model.predict(features)"
   ]
  },
  {
   "cell_type": "code",
   "execution_count": null,
   "id": "262188ec",
   "metadata": {},
   "outputs": [],
   "source": []
  },
  {
   "cell_type": "code",
   "execution_count": null,
   "id": "e975bff5",
   "metadata": {},
   "outputs": [],
   "source": []
  }
 ],
 "metadata": {
  "kernelspec": {
   "display_name": "Python 3 (ipykernel)",
   "language": "python",
   "name": "python3"
  },
  "language_info": {
   "codemirror_mode": {
    "name": "ipython",
    "version": 3
   },
   "file_extension": ".py",
   "mimetype": "text/x-python",
   "name": "python",
   "nbconvert_exporter": "python",
   "pygments_lexer": "ipython3",
   "version": "3.10.3"
  }
 },
 "nbformat": 4,
 "nbformat_minor": 5
}
